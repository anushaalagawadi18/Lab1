{
 "cells": [
  {
   "cell_type": "code",
   "execution_count": 1,
   "id": "5f1670fc",
   "metadata": {},
   "outputs": [
    {
     "name": "stdout",
     "output_type": "stream",
     "text": [
      "  Customer  Candies (#)  Mangoes (Kg)  Milk Packets (#)  Payment (Rs)  \\\n",
      "0      C_1           20             6                 2           386   \n",
      "1      C_2           16             3                 6           289   \n",
      "2      C_3           27             6                 2           393   \n",
      "3      C_4           19             1                 2           110   \n",
      "4      C_5           24             4                 2           280   \n",
      "5      C_6           22             1                 5           167   \n",
      "6      C_7           15             4                 2           271   \n",
      "7      C_8           18             4                 2           274   \n",
      "8      C_9           21             1                 4           148   \n",
      "9     C_10           16             2                 4           198   \n",
      "\n",
      "   Unnamed: 5  Unnamed: 6  Unnamed: 7  Unnamed: 8  Unnamed: 9  ...  \\\n",
      "0         NaN         NaN         NaN         NaN         NaN  ...   \n",
      "1         NaN         NaN         NaN         NaN         NaN  ...   \n",
      "2         NaN         NaN         NaN         NaN         NaN  ...   \n",
      "3         NaN         NaN         NaN         NaN         NaN  ...   \n",
      "4         NaN         NaN         NaN         NaN         NaN  ...   \n",
      "5         NaN         NaN         NaN         NaN         NaN  ...   \n",
      "6         NaN         NaN         NaN         NaN         NaN  ...   \n",
      "7         NaN         NaN         NaN         NaN         NaN  ...   \n",
      "8         NaN         NaN         NaN         NaN         NaN  ...   \n",
      "9         NaN         NaN         NaN         NaN         NaN  ...   \n",
      "\n",
      "   Unnamed: 12  Unnamed: 13  Unnamed: 14  Unnamed: 15  Unnamed: 16  \\\n",
      "0          NaN          NaN          NaN          NaN          NaN   \n",
      "1          NaN          NaN          NaN          NaN          NaN   \n",
      "2          NaN          NaN          NaN          NaN          NaN   \n",
      "3          NaN          NaN          NaN          NaN          NaN   \n",
      "4          NaN          NaN          NaN          NaN          NaN   \n",
      "5          NaN          NaN          NaN          NaN          NaN   \n",
      "6          NaN          NaN          NaN          NaN          NaN   \n",
      "7          NaN          NaN          NaN          NaN          NaN   \n",
      "8          NaN          NaN          NaN          NaN          NaN   \n",
      "9          NaN          NaN          NaN          NaN          NaN   \n",
      "\n",
      "   Unnamed: 17  Unnamed: 18  Candy  Mango  Milk  \n",
      "0          NaN          NaN    1.0   55.0  18.0  \n",
      "1          NaN          NaN    NaN    NaN   NaN  \n",
      "2          NaN          NaN    NaN    NaN   NaN  \n",
      "3          NaN          NaN    NaN    NaN   NaN  \n",
      "4          NaN          NaN    NaN    NaN   NaN  \n",
      "5          NaN          NaN    NaN    NaN   NaN  \n",
      "6          NaN          NaN    NaN    NaN   NaN  \n",
      "7          NaN          NaN    NaN    NaN   NaN  \n",
      "8          NaN          NaN    NaN    NaN   NaN  \n",
      "9          NaN          NaN    NaN    NaN   NaN  \n",
      "\n",
      "[10 rows x 22 columns]\n",
      "Matrix A shape: (10, 3)\n",
      "Matrix C shape: (10,)\n"
     ]
    }
   ],
   "source": [
    "import pandas as pd\n",
    "import numpy as np\n",
    "\n",
    "df=pd.read_excel(\"C:\\\\Users\\\\Shreyaa Hothur\\\\OneDrive\\\\Pictures\\\\Documents\\\\ML A\\\\Lab Session1 Data.xlsx\")\n",
    "print (df)\n",
    "A = df[['Candies (#)','Mangoes (Kg)','Milk Packets (#)']].to_numpy()\n",
    "C = df['Payment (Rs)'].to_numpy()\n",
    "\n",
    "# Check the shape of A and C\n",
    "print(\"Matrix A shape:\", A.shape)\n",
    "print(\"Matrix C shape:\", C.shape)"
   ]
  },
  {
   "cell_type": "code",
   "execution_count": 2,
   "id": "3ebb3024",
   "metadata": {},
   "outputs": [
    {
     "name": "stdout",
     "output_type": "stream",
     "text": [
      "Number of vectors: 10\n"
     ]
    }
   ],
   "source": [
    "# How many vectors exist in this vector space?\n",
    "\n",
    "# The number of vectors in the vector space is equal to the number of rows in matrix A. You can find this by checking the number of rows in the A matrix:\n",
    "\n",
    "num_vectors = A.shape[0]\n",
    "print(\"Number of vectors:\", num_vectors)"
   ]
  },
  {
   "cell_type": "code",
   "execution_count": 3,
   "id": "76d510b5",
   "metadata": {},
   "outputs": [
    {
     "name": "stdout",
     "output_type": "stream",
     "text": [
      "Rank of Matrix A: 3\n"
     ]
    }
   ],
   "source": [
    "# What is the rank of Matrix A?\n",
    "\n",
    "# You can calculate the rank of matrix A using NumPy's numpy.linalg.matrix_rank function:\n",
    "\n",
    "rank_A = np.linalg.matrix_rank(A)\n",
    "print(\"Rank of Matrix A:\", rank_A)"
   ]
  },
  {
   "cell_type": "code",
   "execution_count": 4,
   "id": "ff52a773",
   "metadata": {},
   "outputs": [
    {
     "name": "stdout",
     "output_type": "stream",
     "text": [
      "Product Costs: [ 1. 55. 18.]\n"
     ]
    }
   ],
   "source": [
    "# Using Pseudo-Inverse, find the cost of each product available for sale.\n",
    "\n",
    "# You can calculate the cost of each product using the pseudo-inverse of A. The pseudo-inverse can be computed using numpy.linalg.pinv:\n",
    "\n",
    "# Calculate the pseudo-inverse of A\n",
    "A_pseudo_inv = np.linalg.pinv(A)\n",
    "\n",
    "# Use pseudo-inverse to find product costs\n",
    "product_costs = np.dot(A_pseudo_inv, C)\n",
    "print(\"Product Costs:\", product_costs)"
   ]
  },
  {
   "cell_type": "code",
   "execution_count": 7,
   "id": "353eeb71",
   "metadata": {},
   "outputs": [
    {
     "name": "stdout",
     "output_type": "stream",
     "text": [
      "Accuracy: 0.5\n",
      "Classification Report:\n",
      "               precision    recall  f1-score   support\n",
      "\n",
      "           0       0.50      1.00      0.67         1\n",
      "           1       0.00      0.00      0.00         1\n",
      "\n",
      "    accuracy                           0.50         2\n",
      "   macro avg       0.25      0.50      0.33         2\n",
      "weighted avg       0.25      0.50      0.33         2\n",
      "\n",
      "New Customer is RICH\n"
     ]
    },
    {
     "name": "stderr",
     "output_type": "stream",
     "text": [
      "C:\\Users\\Shreyaa Hothur\\anaconda3\\lib\\site-packages\\sklearn\\metrics\\_classification.py:1318: UndefinedMetricWarning: Precision and F-score are ill-defined and being set to 0.0 in labels with no predicted samples. Use `zero_division` parameter to control this behavior.\n",
      "  _warn_prf(average, modifier, msg_start, len(result))\n",
      "C:\\Users\\Shreyaa Hothur\\anaconda3\\lib\\site-packages\\sklearn\\metrics\\_classification.py:1318: UndefinedMetricWarning: Precision and F-score are ill-defined and being set to 0.0 in labels with no predicted samples. Use `zero_division` parameter to control this behavior.\n",
      "  _warn_prf(average, modifier, msg_start, len(result))\n",
      "C:\\Users\\Shreyaa Hothur\\anaconda3\\lib\\site-packages\\sklearn\\metrics\\_classification.py:1318: UndefinedMetricWarning: Precision and F-score are ill-defined and being set to 0.0 in labels with no predicted samples. Use `zero_division` parameter to control this behavior.\n",
      "  _warn_prf(average, modifier, msg_start, len(result))\n"
     ]
    }
   ],
   "source": [
    "from sklearn.model_selection import train_test_split\n",
    "from sklearn.linear_model import LogisticRegression\n",
    "from sklearn.metrics import classification_report\n",
    "\n",
    "# Create a new column \"Class\" to label customers\n",
    "df['Class'] = (df['Payment (Rs)'] > 200).astype(int)\n",
    "\n",
    "features = df[['Candies (#)','Mangoes (Kg)','Milk Packets (#)']].to_numpy()\n",
    "\n",
    "from sklearn.model_selection import train_test_split\n",
    "\n",
    "X_train, X_test, y_train, y_test = train_test_split(features, df['Class'], test_size=0.2, random_state=42)\n",
    "\n",
    "from sklearn.linear_model import LogisticRegression\n",
    "\n",
    "# Initialize the classifier\n",
    "classifier = LogisticRegression()\n",
    "\n",
    "# Train the classifier on the training data\n",
    "classifier.fit(X_train, y_train)\n",
    "\n",
    "from sklearn.metrics import accuracy_score, classification_report\n",
    "\n",
    "# Make predictions on the test set\n",
    "y_pred = classifier.predict(X_test)\n",
    "\n",
    "# Calculate accuracy\n",
    "accuracy = accuracy_score(y_test, y_pred)\n",
    "print(\"Accuracy:\", accuracy)\n",
    "\n",
    "# Generate a classification report\n",
    "report = classification_report(y_test, y_pred)\n",
    "print(\"Classification Report:\\n\", report)\n",
    "\n",
    "new_customer_features = np.array([[150,150,10]])\n",
    "predicted_class = classifier.predict(new_customer_features)\n",
    "if predicted_class[0] == 1:\n",
    "    print(\"New Customer is RICH\")\n",
    "else:\n",
    "    print(\"New Customer is POOR\")"
   ]
  },
  {
   "cell_type": "code",
   "execution_count": 8,
   "id": "cb8f600c",
   "metadata": {},
   "outputs": [],
   "source": [
    "import pandas as pd\n",
    "import statistics\n",
    "\n",
    "# Load the data from the Excel file\n",
    "data = pd.read_excel('Lab Session1 Data.xlsx', sheet_name='IRCTC Stock Price')"
   ]
  },
  {
   "cell_type": "code",
   "execution_count": 9,
   "id": "1e24f981",
   "metadata": {},
   "outputs": [],
   "source": [
    "price_data = data['Price']\n",
    "mean_price = statistics.mean(price_data)\n",
    "variance_price = statistics.variance(price_data)\n"
   ]
  },
  {
   "cell_type": "code",
   "execution_count": 10,
   "id": "443bf918",
   "metadata": {},
   "outputs": [
    {
     "name": "stdout",
     "output_type": "stream",
     "text": [
      "Mean Price: 1560.663453815261\n",
      "Variance of Price: 58732.365352539186\n"
     ]
    }
   ],
   "source": [
    "print(\"Mean Price:\", mean_price)\n",
    "print(\"Variance of Price:\", variance_price)"
   ]
  },
  {
   "cell_type": "code",
   "execution_count": 11,
   "id": "a5aae80d",
   "metadata": {},
   "outputs": [],
   "source": [
    "wednesday_data = data[data['Day'] == 'Wed']['Price']\n",
    "sample_mean_wednesday = statistics.mean(wednesday_data)"
   ]
  },
  {
   "cell_type": "code",
   "execution_count": 12,
   "id": "0cd04976",
   "metadata": {},
   "outputs": [
    {
     "name": "stdout",
     "output_type": "stream",
     "text": [
      "Sample Mean for Wednesdays: 1550.706\n"
     ]
    }
   ],
   "source": [
    "print(\"Sample Mean for Wednesdays:\", sample_mean_wednesday)"
   ]
  },
  {
   "cell_type": "code",
   "execution_count": 13,
   "id": "3cb9646d",
   "metadata": {},
   "outputs": [],
   "source": [
    "population_mean = statistics.mean(price_data)"
   ]
  },
  {
   "cell_type": "code",
   "execution_count": 14,
   "id": "d435e60c",
   "metadata": {},
   "outputs": [
    {
     "name": "stdout",
     "output_type": "stream",
     "text": [
      "Population Mean: 1560.663453815261\n"
     ]
    }
   ],
   "source": [
    "print(\"Population Mean:\", population_mean)"
   ]
  },
  {
   "cell_type": "code",
   "execution_count": 15,
   "id": "7ad4b07b",
   "metadata": {},
   "outputs": [
    {
     "name": "stdout",
     "output_type": "stream",
     "text": [
      "Sample mean for Wednesdays is lower than the population mean.\n"
     ]
    }
   ],
   "source": [
    "if sample_mean_wednesday > population_mean:\n",
    "    print(\"Sample mean for Wednesdays is higher than the population mean.\")\n",
    "elif sample_mean_wednesday < population_mean:\n",
    "    print(\"Sample mean for Wednesdays is lower than the population mean.\")\n",
    "else:\n",
    "    print(\"Sample mean for Wednesdays is equal to the population mean.\")"
   ]
  },
  {
   "cell_type": "code",
   "execution_count": 16,
   "id": "14101a7c",
   "metadata": {},
   "outputs": [],
   "source": [
    "april_data = data[data['Month'] == 'Apr']['Price']\n",
    "sample_mean_april = statistics.mean(april_data)"
   ]
  },
  {
   "cell_type": "code",
   "execution_count": 17,
   "id": "b11b853b",
   "metadata": {},
   "outputs": [
    {
     "name": "stdout",
     "output_type": "stream",
     "text": [
      "Sample Mean for April: 1698.9526315789474\n"
     ]
    }
   ],
   "source": [
    "print(\"Sample Mean for April:\", sample_mean_april)"
   ]
  },
  {
   "cell_type": "code",
   "execution_count": 18,
   "id": "f983c7f9",
   "metadata": {},
   "outputs": [
    {
     "name": "stdout",
     "output_type": "stream",
     "text": [
      "Sample mean for April is higher than the population mean.\n"
     ]
    }
   ],
   "source": [
    "if sample_mean_april > population_mean:\n",
    "    print(\"Sample mean for April is higher than the population mean.\")\n",
    "elif sample_mean_april < population_mean:\n",
    "    print(\"Sample mean for April is lower than the population mean.\")\n",
    "else:\n",
    "    print(\"Sample mean for April is equal to the population mean.\")"
   ]
  },
  {
   "cell_type": "code",
   "execution_count": 19,
   "id": "22802e41",
   "metadata": {},
   "outputs": [],
   "source": [
    "loss_probability = len(data[data['Chg%'] < 0]) / len(data)"
   ]
  },
  {
   "cell_type": "code",
   "execution_count": 20,
   "id": "c3553b1c",
   "metadata": {},
   "outputs": [
    {
     "name": "stdout",
     "output_type": "stream",
     "text": [
      "Probability of Making a Loss: 0.4979919678714859\n"
     ]
    }
   ],
   "source": [
    "print(\"Probability of Making a Loss:\", loss_probability)"
   ]
  },
  {
   "cell_type": "code",
   "execution_count": 21,
   "id": "cc72a4cb",
   "metadata": {},
   "outputs": [],
   "source": [
    "profit_probability_wednesday = len(data[(data['Day'] == 'Wed') & (data['Chg%'] > 0)]) / len(wednesday_data)"
   ]
  },
  {
   "cell_type": "code",
   "execution_count": 22,
   "id": "fb36b820",
   "metadata": {},
   "outputs": [
    {
     "name": "stdout",
     "output_type": "stream",
     "text": [
      "Probability of Making a Profit on Wednesday: 0.42\n"
     ]
    }
   ],
   "source": [
    "print(\"Probability of Making a Profit on Wednesday:\", profit_probability_wednesday)\n"
   ]
  },
  {
   "cell_type": "code",
   "execution_count": 23,
   "id": "276b037a",
   "metadata": {},
   "outputs": [],
   "source": [
    "conditional_probability_profit_given_wednesday = profit_probability_wednesday / len(wednesday_data)"
   ]
  },
  {
   "cell_type": "code",
   "execution_count": 24,
   "id": "9e86c563",
   "metadata": {},
   "outputs": [
    {
     "name": "stdout",
     "output_type": "stream",
     "text": [
      "Conditional Probability of Making Profit (Given Wednesday): 0.0084\n"
     ]
    }
   ],
   "source": [
    "print(\"Conditional Probability of Making Profit (Given Wednesday):\", conditional_probability_profit_given_wednesday)"
   ]
  },
  {
   "cell_type": "code",
   "execution_count": 25,
   "id": "12abf9a1",
   "metadata": {},
   "outputs": [],
   "source": [
    "import matplotlib.pyplot as plt"
   ]
  },
  {
   "cell_type": "code",
   "execution_count": 26,
   "id": "3b838a1f",
   "metadata": {},
   "outputs": [
    {
     "data": {
      "image/png": "[encoded data removed]",
      "text/plain": [
       "<Figure size 640x480 with 1 Axes>"
      ]
     },
     "metadata": {},
     "output_type": "display_data"
    }
   ],
   "source": [
    "plt.scatter(data['Day'], data['Chg%'])\n",
    "plt.xlabel(\"Day of the Week\")\n",
    "plt.ylabel(\"Chg%\")\n",
    "plt.title(\"Chg% vs. Day of the Week\")\n",
    "plt.xticks(rotation=45)\n",
    "plt.show()"
   ]
  },
  {
   "cell_type": "code",
   "execution_count": null,
   "id": "2141d5e9",
   "metadata": {},
   "outputs": [],
   "source": []
  }
 ],
 "metadata": {
  "kernelspec": {
   "display_name": "Python 3 (ipykernel)",
   "language": "python",
   "name": "python3"
  },
  "language_info": {
   "codemirror_mode": {
    "name": "ipython",
    "version": 3
   },
   "file_extension": ".py",
   "mimetype": "text/x-python",
   "name": "python",
   "nbconvert_exporter": "python",
   "pygments_lexer": "ipython3",
   "version": "3.9.13"
  }
 },
 "nbformat": 4,
 "nbformat_minor": 5
}
